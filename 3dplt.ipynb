import matplotlib.pyplot as plt
import numpy as np
s=plt.figure()
z=np.arange(5)
plt.pie(z)
plt.show()
